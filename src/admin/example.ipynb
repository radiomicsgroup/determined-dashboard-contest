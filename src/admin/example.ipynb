{
 "cells": [
  {
   "cell_type": "code",
   "execution_count": 1,
   "id": "6f6d3bad-53e5-478e-97f1-c7ed914c0c6f",
   "metadata": {},
   "outputs": [],
   "source": [
    "# Imports\n",
    "import pandas as pd\n",
    "import pygwalker as pyg\n",
    "from ydata_profiling import ProfileReport\n",
    "import dtale"
   ]
  },
  {
   "cell_type": "code",
   "execution_count": 2,
   "id": "fc461553-4241-4ca0-b699-7c48e3c09e00",
   "metadata": {
    "scrolled": true
   },
   "outputs": [
    {
     "data": {
      "text/html": [
       "<div>\n",
       "<style scoped>\n",
       "    .dataframe tbody tr th:only-of-type {\n",
       "        vertical-align: middle;\n",
       "    }\n",
       "\n",
       "    .dataframe tbody tr th {\n",
       "        vertical-align: top;\n",
       "    }\n",
       "\n",
       "    .dataframe thead th {\n",
       "        text-align: right;\n",
       "    }\n",
       "</style>\n",
       "<table border=\"1\" class=\"dataframe\">\n",
       "  <thead>\n",
       "    <tr style=\"text-align: right;\">\n",
       "      <th></th>\n",
       "      <th>genid</th>\n",
       "      <th>id</th>\n",
       "      <th>name</th>\n",
       "      <th>cpu</th>\n",
       "      <th>mem</th>\n",
       "      <th>memperc</th>\n",
       "      <th>netin</th>\n",
       "      <th>netout</th>\n",
       "      <th>blockin</th>\n",
       "      <th>blockout</th>\n",
       "      <th>image</th>\n",
       "      <th>detuser</th>\n",
       "      <th>ip</th>\n",
       "      <th>date</th>\n",
       "    </tr>\n",
       "  </thead>\n",
       "  <tbody>\n",
       "    <tr>\n",
       "      <th>0</th>\n",
       "      <td>8c6fc78d-96f8-4def-a172-0a9a91240bb7</td>\n",
       "      <td>ec57bac4e511</td>\n",
       "      <td>ecstatic_ride</td>\n",
       "      <td>0.23</td>\n",
       "      <td>4.267700e+08</td>\n",
       "      <td>1.28</td>\n",
       "      <td>75497500.0</td>\n",
       "      <td>5.242880e+06</td>\n",
       "      <td>136315000.0</td>\n",
       "      <td>1048580.0</td>\n",
       "      <td>determinedai/environments:py-3.10-pytorch-2.0-...</td>\n",
       "      <td>clhumaira</td>\n",
       "      <td>172.27.40.102</td>\n",
       "      <td>2024-04-23 19:29:54</td>\n",
       "    </tr>\n",
       "    <tr>\n",
       "      <th>1</th>\n",
       "      <td>9f798f5f-5966-4b9d-87a5-c1e6fae12a44</td>\n",
       "      <td>da51b13c49c2</td>\n",
       "      <td>pedantic_wiles</td>\n",
       "      <td>11.91</td>\n",
       "      <td>1.065350e+09</td>\n",
       "      <td>3.18</td>\n",
       "      <td>105906000.0</td>\n",
       "      <td>2.936010e+07</td>\n",
       "      <td>379585000.0</td>\n",
       "      <td>109052000.0</td>\n",
       "      <td>harbor.vhio.net/determine/custom_cpu:0.24.1.3</td>\n",
       "      <td>admin</td>\n",
       "      <td>172.27.40.102</td>\n",
       "      <td>2024-04-23 19:29:54</td>\n",
       "    </tr>\n",
       "    <tr>\n",
       "      <th>2</th>\n",
       "      <td>e072efa1-edfe-4fb0-b1ba-9e261ee6a633</td>\n",
       "      <td>5e1d18f2d053</td>\n",
       "      <td>objective_black</td>\n",
       "      <td>3.39</td>\n",
       "      <td>1.073740e+09</td>\n",
       "      <td>4.39</td>\n",
       "      <td>94371800.0</td>\n",
       "      <td>9.017750e+07</td>\n",
       "      <td>201327000.0</td>\n",
       "      <td>27263000.0</td>\n",
       "      <td>harbor.vhio.net/determine/custom_cpu:0.24.1.3</td>\n",
       "      <td>clalonsogarcia</td>\n",
       "      <td>172.27.40.102</td>\n",
       "      <td>2024-04-23 19:29:54</td>\n",
       "    </tr>\n",
       "    <tr>\n",
       "      <th>3</th>\n",
       "      <td>d453633c-1eb4-40c7-aa9c-831fb8c08331</td>\n",
       "      <td>db2514bd2f7c</td>\n",
       "      <td>pensive_kapitsa</td>\n",
       "      <td>0.10</td>\n",
       "      <td>1.073740e+09</td>\n",
       "      <td>3.46</td>\n",
       "      <td>328204000.0</td>\n",
       "      <td>1.044380e+09</td>\n",
       "      <td>331350000.0</td>\n",
       "      <td>166724000.0</td>\n",
       "      <td>harbor.vhio.net/determine/custom_cpu:0.24.1.3</td>\n",
       "      <td>cladria</td>\n",
       "      <td>172.27.40.102</td>\n",
       "      <td>2024-04-23 19:29:54</td>\n",
       "    </tr>\n",
       "    <tr>\n",
       "      <th>4</th>\n",
       "      <td>c572e628-50c0-4c04-bc00-06abdb0c9078</td>\n",
       "      <td>1c2e250005e4</td>\n",
       "      <td>pensive_nobel</td>\n",
       "      <td>0.01</td>\n",
       "      <td>2.432700e+08</td>\n",
       "      <td>0.73</td>\n",
       "      <td>130023000.0</td>\n",
       "      <td>3.250590e+07</td>\n",
       "      <td>310378000.0</td>\n",
       "      <td>65011700.0</td>\n",
       "      <td>determinedai/environments:py-3.10-pytorch-2.0-...</td>\n",
       "      <td>clariadna</td>\n",
       "      <td>172.27.40.102</td>\n",
       "      <td>2024-04-23 19:29:54</td>\n",
       "    </tr>\n",
       "    <tr>\n",
       "      <th>...</th>\n",
       "      <td>...</td>\n",
       "      <td>...</td>\n",
       "      <td>...</td>\n",
       "      <td>...</td>\n",
       "      <td>...</td>\n",
       "      <td>...</td>\n",
       "      <td>...</td>\n",
       "      <td>...</td>\n",
       "      <td>...</td>\n",
       "      <td>...</td>\n",
       "      <td>...</td>\n",
       "      <td>...</td>\n",
       "      <td>...</td>\n",
       "      <td>...</td>\n",
       "    </tr>\n",
       "    <tr>\n",
       "      <th>495</th>\n",
       "      <td>39244525-2126-4834-95c5-74a86f9e5225</td>\n",
       "      <td>8dcd67312969</td>\n",
       "      <td>nifty_rosalind</td>\n",
       "      <td>1.55</td>\n",
       "      <td>5.368710e+09</td>\n",
       "      <td>4.72</td>\n",
       "      <td>255853000.0</td>\n",
       "      <td>3.512730e+08</td>\n",
       "      <td>122683000.0</td>\n",
       "      <td>714080000.0</td>\n",
       "      <td>determinedai/environments:py-3.10-pytorch-2.0-...</td>\n",
       "      <td>cldaniel</td>\n",
       "      <td>172.27.40.106</td>\n",
       "      <td>2024-04-23 21:16:44</td>\n",
       "    </tr>\n",
       "    <tr>\n",
       "      <th>496</th>\n",
       "      <td>1a24480f-55bf-4d35-b9e7-8c16990d081f</td>\n",
       "      <td>ec57bac4e511</td>\n",
       "      <td>ecstatic_ride</td>\n",
       "      <td>0.08</td>\n",
       "      <td>2.170550e+08</td>\n",
       "      <td>0.65</td>\n",
       "      <td>76546000.0</td>\n",
       "      <td>5.242880e+06</td>\n",
       "      <td>136315000.0</td>\n",
       "      <td>1048580.0</td>\n",
       "      <td>determinedai/environments:py-3.10-pytorch-2.0-...</td>\n",
       "      <td>clhumaira</td>\n",
       "      <td>172.27.40.102</td>\n",
       "      <td>2024-04-23 21:16:59</td>\n",
       "    </tr>\n",
       "    <tr>\n",
       "      <th>497</th>\n",
       "      <td>b4a3875d-c25e-4f58-b468-a867ab40ff0a</td>\n",
       "      <td>5e1d18f2d053</td>\n",
       "      <td>objective_black</td>\n",
       "      <td>0.84</td>\n",
       "      <td>6.280970e+08</td>\n",
       "      <td>1.88</td>\n",
       "      <td>94371800.0</td>\n",
       "      <td>9.017750e+07</td>\n",
       "      <td>201327000.0</td>\n",
       "      <td>27263000.0</td>\n",
       "      <td>harbor.vhio.net/determine/custom_cpu:0.24.1.3</td>\n",
       "      <td>clalonsogarcia</td>\n",
       "      <td>172.27.40.102</td>\n",
       "      <td>2024-04-23 21:16:59</td>\n",
       "    </tr>\n",
       "    <tr>\n",
       "      <th>498</th>\n",
       "      <td>ac99c43c-b8ce-4568-9eaa-bde0b769b3bb</td>\n",
       "      <td>db2514bd2f7c</td>\n",
       "      <td>pensive_kapitsa</td>\n",
       "      <td>0.06</td>\n",
       "      <td>1.073740e+09</td>\n",
       "      <td>3.46</td>\n",
       "      <td>328204000.0</td>\n",
       "      <td>1.044380e+09</td>\n",
       "      <td>331350000.0</td>\n",
       "      <td>166724000.0</td>\n",
       "      <td>harbor.vhio.net/determine/custom_cpu:0.24.1.3</td>\n",
       "      <td>cladria</td>\n",
       "      <td>172.27.40.102</td>\n",
       "      <td>2024-04-23 21:16:59</td>\n",
       "    </tr>\n",
       "    <tr>\n",
       "      <th>499</th>\n",
       "      <td>8bccbd78-9aa2-4cd5-ad17-86cdd45a89f2</td>\n",
       "      <td>1c2e250005e4</td>\n",
       "      <td>pensive_nobel</td>\n",
       "      <td>0.03</td>\n",
       "      <td>2.432700e+08</td>\n",
       "      <td>0.73</td>\n",
       "      <td>130023000.0</td>\n",
       "      <td>3.250590e+07</td>\n",
       "      <td>310378000.0</td>\n",
       "      <td>65011700.0</td>\n",
       "      <td>determinedai/environments:py-3.10-pytorch-2.0-...</td>\n",
       "      <td>clariadna</td>\n",
       "      <td>172.27.40.102</td>\n",
       "      <td>2024-04-23 21:16:59</td>\n",
       "    </tr>\n",
       "  </tbody>\n",
       "</table>\n",
       "<p>500 rows × 14 columns</p>\n",
       "</div>"
      ],
      "text/plain": [
       "                                    genid            id             name  \\\n",
       "0    8c6fc78d-96f8-4def-a172-0a9a91240bb7  ec57bac4e511    ecstatic_ride   \n",
       "1    9f798f5f-5966-4b9d-87a5-c1e6fae12a44  da51b13c49c2   pedantic_wiles   \n",
       "2    e072efa1-edfe-4fb0-b1ba-9e261ee6a633  5e1d18f2d053  objective_black   \n",
       "3    d453633c-1eb4-40c7-aa9c-831fb8c08331  db2514bd2f7c  pensive_kapitsa   \n",
       "4    c572e628-50c0-4c04-bc00-06abdb0c9078  1c2e250005e4    pensive_nobel   \n",
       "..                                    ...           ...              ...   \n",
       "495  39244525-2126-4834-95c5-74a86f9e5225  8dcd67312969   nifty_rosalind   \n",
       "496  1a24480f-55bf-4d35-b9e7-8c16990d081f  ec57bac4e511    ecstatic_ride   \n",
       "497  b4a3875d-c25e-4f58-b468-a867ab40ff0a  5e1d18f2d053  objective_black   \n",
       "498  ac99c43c-b8ce-4568-9eaa-bde0b769b3bb  db2514bd2f7c  pensive_kapitsa   \n",
       "499  8bccbd78-9aa2-4cd5-ad17-86cdd45a89f2  1c2e250005e4    pensive_nobel   \n",
       "\n",
       "       cpu           mem  memperc        netin        netout      blockin  \\\n",
       "0     0.23  4.267700e+08     1.28   75497500.0  5.242880e+06  136315000.0   \n",
       "1    11.91  1.065350e+09     3.18  105906000.0  2.936010e+07  379585000.0   \n",
       "2     3.39  1.073740e+09     4.39   94371800.0  9.017750e+07  201327000.0   \n",
       "3     0.10  1.073740e+09     3.46  328204000.0  1.044380e+09  331350000.0   \n",
       "4     0.01  2.432700e+08     0.73  130023000.0  3.250590e+07  310378000.0   \n",
       "..     ...           ...      ...          ...           ...          ...   \n",
       "495   1.55  5.368710e+09     4.72  255853000.0  3.512730e+08  122683000.0   \n",
       "496   0.08  2.170550e+08     0.65   76546000.0  5.242880e+06  136315000.0   \n",
       "497   0.84  6.280970e+08     1.88   94371800.0  9.017750e+07  201327000.0   \n",
       "498   0.06  1.073740e+09     3.46  328204000.0  1.044380e+09  331350000.0   \n",
       "499   0.03  2.432700e+08     0.73  130023000.0  3.250590e+07  310378000.0   \n",
       "\n",
       "        blockout                                              image  \\\n",
       "0      1048580.0  determinedai/environments:py-3.10-pytorch-2.0-...   \n",
       "1    109052000.0      harbor.vhio.net/determine/custom_cpu:0.24.1.3   \n",
       "2     27263000.0      harbor.vhio.net/determine/custom_cpu:0.24.1.3   \n",
       "3    166724000.0      harbor.vhio.net/determine/custom_cpu:0.24.1.3   \n",
       "4     65011700.0  determinedai/environments:py-3.10-pytorch-2.0-...   \n",
       "..           ...                                                ...   \n",
       "495  714080000.0  determinedai/environments:py-3.10-pytorch-2.0-...   \n",
       "496    1048580.0  determinedai/environments:py-3.10-pytorch-2.0-...   \n",
       "497   27263000.0      harbor.vhio.net/determine/custom_cpu:0.24.1.3   \n",
       "498  166724000.0      harbor.vhio.net/determine/custom_cpu:0.24.1.3   \n",
       "499   65011700.0  determinedai/environments:py-3.10-pytorch-2.0-...   \n",
       "\n",
       "            detuser             ip                 date  \n",
       "0         clhumaira  172.27.40.102  2024-04-23 19:29:54  \n",
       "1             admin  172.27.40.102  2024-04-23 19:29:54  \n",
       "2    clalonsogarcia  172.27.40.102  2024-04-23 19:29:54  \n",
       "3           cladria  172.27.40.102  2024-04-23 19:29:54  \n",
       "4         clariadna  172.27.40.102  2024-04-23 19:29:54  \n",
       "..              ...            ...                  ...  \n",
       "495        cldaniel  172.27.40.106  2024-04-23 21:16:44  \n",
       "496       clhumaira  172.27.40.102  2024-04-23 21:16:59  \n",
       "497  clalonsogarcia  172.27.40.102  2024-04-23 21:16:59  \n",
       "498         cladria  172.27.40.102  2024-04-23 21:16:59  \n",
       "499       clariadna  172.27.40.102  2024-04-23 21:16:59  \n",
       "\n",
       "[500 rows x 14 columns]"
      ]
     },
     "execution_count": 2,
     "metadata": {},
     "output_type": "execute_result"
    }
   ],
   "source": [
    "df = pd.read_csv('./data.csv')\n",
    "df"
   ]
  },
  {
   "cell_type": "code",
   "execution_count": 3,
   "id": "9c8c987d-99dc-49a6-8761-ce1715f2befa",
   "metadata": {},
   "outputs": [
    {
     "data": {
      "application/vnd.jupyter.widget-view+json": {
       "model_id": "770f078e82054a7a8c513668882244dd",
       "version_major": 2,
       "version_minor": 0
      },
      "text/plain": [
       "Box(children=(HTML(value='<div id=\"ifr-pyg-000616d421b953caiZ8EFBrx1QhTXcdU\" style=\"height: auto\">\\n    <head>…"
      ]
     },
     "metadata": {},
     "output_type": "display_data"
    },
    {
     "data": {
      "text/html": [],
      "text/plain": [
       "<IPython.core.display.HTML object>"
      ]
     },
     "metadata": {},
     "output_type": "display_data"
    }
   ],
   "source": [
    "walker = pyg.walk(df)"
   ]
  },
  {
   "cell_type": "code",
   "execution_count": 4,
   "id": "e0d2dce6-e6b1-46a0-94ee-4fa9298e98ad",
   "metadata": {},
   "outputs": [
    {
     "data": {
      "application/vnd.jupyter.widget-view+json": {
       "model_id": "29bc028ea4cb428abc9466f54ab2b1df",
       "version_major": 2,
       "version_minor": 0
      },
      "text/plain": [
       "Summarize dataset:   0%|          | 0/5 [00:00<?, ?it/s]"
      ]
     },
     "metadata": {},
     "output_type": "display_data"
    },
    {
     "data": {
      "application/vnd.jupyter.widget-view+json": {
       "model_id": "c63c75fb11ef42518ae97955e52f438b",
       "version_major": 2,
       "version_minor": 0
      },
      "text/plain": [
       "Generate report structure:   0%|          | 0/1 [00:00<?, ?it/s]"
      ]
     },
     "metadata": {},
     "output_type": "display_data"
    },
    {
     "data": {
      "application/vnd.jupyter.widget-view+json": {
       "model_id": "",
       "version_major": 2,
       "version_minor": 0
      },
      "text/plain": [
       "Render widgets:   0%|          | 0/1 [00:00<?, ?it/s]"
      ]
     },
     "metadata": {},
     "output_type": "display_data"
    },
    {
     "name": "stderr",
     "output_type": "stream",
     "text": [
      "IOPub message rate exceeded.\n",
      "The Jupyter server will temporarily stop sending output\n",
      "to the client in order to avoid crashing it.\n",
      "To change this limit, set the config variable\n",
      "`--ServerApp.iopub_msg_rate_limit`.\n",
      "\n",
      "Current values:\n",
      "ServerApp.iopub_msg_rate_limit=1000.0 (msgs/sec)\n",
      "ServerApp.rate_limit_window=3.0 (secs)\n",
      "\n"
     ]
    },
    {
     "data": {
      "application/vnd.jupyter.widget-view+json": {
       "model_id": "033dd1cc38604965bcd7e39efcddc5f5",
       "version_major": 2,
       "version_minor": 0
      },
      "text/plain": [
       "VBox(children=(Tab(children=(Tab(children=(GridBox(children=(VBox(children=(GridspecLayout(children=(HTML(valu…"
      ]
     },
     "metadata": {},
     "output_type": "display_data"
    }
   ],
   "source": [
    "profile = ProfileReport(df, minimal=True,explorative=True)\n",
    "profile.to_widgets()"
   ]
  },
  {
   "cell_type": "code",
   "execution_count": 5,
   "id": "c2b63d4b-7bb8-4b3e-ab80-d6dc039fff48",
   "metadata": {},
   "outputs": [
    {
     "data": {
      "text/html": [
       "\n",
       "        <iframe\n",
       "            width=\"100%\"\n",
       "            height=\"475\"\n",
       "            src=\"http://Camilos-MacBook-Pro-2.local:40000/dtale/iframe/1\"\n",
       "            frameborder=\"0\"\n",
       "            allowfullscreen\n",
       "            \n",
       "        ></iframe>\n",
       "        "
      ],
      "text/plain": [
       "<IPython.lib.display.IFrame at 0x30fba1660>"
      ]
     },
     "metadata": {},
     "output_type": "display_data"
    },
    {
     "data": {
      "text/plain": []
     },
     "execution_count": 5,
     "metadata": {},
     "output_type": "execute_result"
    }
   ],
   "source": [
    "dtale.show(df)"
   ]
  },
  {
   "cell_type": "code",
   "execution_count": null,
   "id": "2008073e-5a75-41c6-974b-335c817da12b",
   "metadata": {},
   "outputs": [],
   "source": []
  }
 ],
 "metadata": {
  "kernelspec": {
   "display_name": "Python 3 (ipykernel)",
   "language": "python",
   "name": "python3"
  },
  "language_info": {
   "codemirror_mode": {
    "name": "ipython",
    "version": 3
   },
   "file_extension": ".py",
   "mimetype": "text/x-python",
   "name": "python",
   "nbconvert_exporter": "python",
   "pygments_lexer": "ipython3",
   "version": "3.10.13"
  }
 },
 "nbformat": 4,
 "nbformat_minor": 5
}
